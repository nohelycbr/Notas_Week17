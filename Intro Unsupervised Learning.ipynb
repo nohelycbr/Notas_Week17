{
 "cells": [
  {
   "cell_type": "markdown",
   "metadata": {},
   "source": [
    "## Unsupervised Learning\n",
    "\n",
    "Proceso de entrenar un modelo con datos sin respuestas. (Prediccion by numbers)\n",
    "- Agrupacion de elementos (Clustering)\n",
    "- Reducción de dimensionalidad\n",
    "\n",
    "**** https://isapps.acxiom.com/personicx/personicx.aspx\n",
    "\n",
    "\n",
    "**** https://www.personicx.co.uk/personicx.html"
   ]
  },
  {
   "cell_type": "markdown",
   "metadata": {},
   "source": [
    "##### Clustering\n",
    " Agrupación de features por características similares\n",
    " - k-means: Cantidad de centroides.\n",
    "     - Mean Shift Algorithm: Para identificar centroides.\n",
    " *** https://www.naftaliharris.com/blog/visualizing-k-means-clustering/\n",
    " \n",
    " - Clusterizado Jerárquico: No es necesario un número de clusters definido al inicio.\n",
    " \n",
    " *** https://youtu.be/OcoE7JlbXvY?t=10\n"
   ]
  },
  {
   "cell_type": "markdown",
   "metadata": {},
   "source": [
    "#### Reducción de dimensionalidades\n",
    "\n",
    "- PCA : Análisis de componentes principales.\n",
    "- Single Value Decomposition SVD\n",
    "    "
   ]
  },
  {
   "cell_type": "markdown",
   "metadata": {},
   "source": [
    "#### The Silhouette Coefficient\n",
    "\n",
    "Punto vs todos los puntos del cluster.\n",
    "    - Entre más negativo el número, el punto está más lejos de su propio cluster, lo ideal sería obtener 1, lo cual querrá decir que el punto está muy cerca de su propio cluster."
   ]
  },
  {
   "cell_type": "code",
   "execution_count": null,
   "metadata": {},
   "outputs": [],
   "source": []
  }
 ],
 "metadata": {
  "kernelspec": {
   "display_name": "Python 3",
   "language": "python",
   "name": "python3"
  },
  "language_info": {
   "codemirror_mode": {
    "name": "ipython",
    "version": 3
   },
   "file_extension": ".py",
   "mimetype": "text/x-python",
   "name": "python",
   "nbconvert_exporter": "python",
   "pygments_lexer": "ipython3",
   "version": "3.7.0"
  }
 },
 "nbformat": 4,
 "nbformat_minor": 2
}
